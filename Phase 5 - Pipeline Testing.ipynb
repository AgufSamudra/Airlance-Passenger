{
 "cells": [
  {
   "cell_type": "code",
   "execution_count": 1,
   "id": "287d49b6-5ab4-4dfc-9d5f-1b0a7e2b29a9",
   "metadata": {},
   "outputs": [],
   "source": [
    "import pandas as pd\n",
    "import numpy as np\n",
    "import matplotlib.pyplot as plt\n",
    "import seaborn as sns"
   ]
  },
  {
   "cell_type": "code",
   "execution_count": 2,
   "id": "a5f63c2c-1387-44bc-9876-a760f00b1545",
   "metadata": {},
   "outputs": [],
   "source": [
    "df_train = pd.read_csv(\"data/train.csv\", index_col=\"id\")\n",
    "df_test = pd.read_csv(\"data/test.csv\", index_col=\"id\")"
   ]
  },
  {
   "cell_type": "code",
   "execution_count": 3,
   "id": "171b3eb2-f3fb-4674-84a2-c3c9d4125351",
   "metadata": {},
   "outputs": [],
   "source": [
    "df_train.drop(columns=['Unnamed: 0', 'Gate location', 'Leg room service', 'Baggage handling'], inplace=True)\n",
    "df_test.drop(columns=['Unnamed: 0', 'Gate location', 'Leg room service', 'Baggage handling'], inplace=True)"
   ]
  },
  {
   "cell_type": "code",
   "execution_count": 4,
   "id": "73300fee-cb43-488a-bebf-eeeeaab1c4f9",
   "metadata": {},
   "outputs": [],
   "source": [
    "X_train = df_train.drop(columns=\"satisfaction\")\n",
    "y_train = df_train.satisfaction\n",
    "\n",
    "X_test = df_test.drop(columns=\"satisfaction\")\n",
    "y_test = df_test.satisfaction"
   ]
  },
  {
   "cell_type": "code",
   "execution_count": 5,
   "id": "f7fe3cdf-26f1-4fe4-b4a6-e1cbe5af4a3c",
   "metadata": {},
   "outputs": [],
   "source": [
    "y_train = y_train.replace({'neutral or dissatisfied': 0, 'satisfied': 1})\n",
    "y_test = y_test.replace({'neutral or dissatisfied': 0, 'satisfied': 1})"
   ]
  },
  {
   "cell_type": "markdown",
   "id": "9c871ecb-4311-4f1b-8dd7-504f1f911b20",
   "metadata": {},
   "source": [
    "# Preprocessor"
   ]
  },
  {
   "cell_type": "code",
   "execution_count": 6,
   "id": "0fd3c5f5-3e0e-415b-806e-525e9cfbe010",
   "metadata": {},
   "outputs": [],
   "source": [
    "from sklearn.preprocessing import OneHotEncoder, MinMaxScaler, OrdinalEncoder\n",
    "from sklearn.impute import SimpleImputer\n",
    "\n",
    "from sklearn.pipeline import Pipeline\n",
    "from sklearn.compose import ColumnTransformer"
   ]
  },
  {
   "cell_type": "code",
   "execution_count": 7,
   "id": "c94b94aa-1066-48b1-ae1f-e087585f6ec6",
   "metadata": {},
   "outputs": [],
   "source": [
    "numerical_pipeline = Pipeline([\n",
    "    (\"imputer\", SimpleImputer(strategy='median'))\n",
    "])\n",
    "\n",
    "categorical_pipeline = Pipeline([\n",
    "    (\"imputer\", SimpleImputer(strategy='most_frequent')),\n",
    "    (\"onehot\", OneHotEncoder())\n",
    "])\n",
    "\n",
    "ordinal_pipeline = Pipeline([\n",
    "    (\"imputer\", SimpleImputer(strategy='most_frequent')),    \n",
    "    (\"ordinal\", OrdinalEncoder(categories=[['0', '1', '2', '3', '4', '5']] * 11))\n",
    "])"
   ]
  },
  {
   "cell_type": "code",
   "execution_count": 8,
   "id": "11003880-943a-495e-868c-27dd52ccf709",
   "metadata": {},
   "outputs": [],
   "source": [
    "preprocessor = ColumnTransformer([\n",
    "    (\"numeric\", numerical_pipeline, [\"Age\", \"Flight Distance\", \"Departure Delay in Minutes\", \"Arrival Delay in Minutes\"]),\n",
    "    (\"categoric\", categorical_pipeline, ['Gender', 'Customer Type', 'Type of Travel', 'Class']),\n",
    "    (\"ordinal\", ordinal_pipeline, ['Inflight wifi service',\n",
    "        'Departure/Arrival time convenient', 'Ease of Online booking', \n",
    "        'Food and drink', 'Online boarding', 'Seat comfort',\n",
    "        'Inflight entertainment', 'On-board service', 'Checkin service', \n",
    "        'Inflight service', 'Cleanliness'])\n",
    "])"
   ]
  },
  {
   "cell_type": "markdown",
   "id": "83252f76-6601-4cdf-8617-48a022b59413",
   "metadata": {},
   "source": [
    "# Pipeline"
   ]
  },
  {
   "cell_type": "code",
   "execution_count": 9,
   "id": "3e66f0fb-b3fb-4769-bcdd-dfaccd414752",
   "metadata": {},
   "outputs": [],
   "source": [
    "from xgboost import XGBClassifier\n",
    "from sklearn.model_selection import RandomizedSearchCV\n",
    "from scipy.stats import loguniform"
   ]
  },
  {
   "cell_type": "code",
   "execution_count": 12,
   "id": "98f73424-ab5a-49b1-8d8d-42f87f89a832",
   "metadata": {
    "tags": []
   },
   "outputs": [
    {
     "name": "stdout",
     "output_type": "stream",
     "text": [
      "Fitting 3 folds for each of 50 candidates, totalling 150 fits\n",
      "Best hyperparameters:  {'algo__colsample_bytree': 0.7109662235514159, 'algo__gamma': 3.941904591403078, 'algo__learning_rate': 0.17070059179090855, 'algo__max_depth': 10, 'algo__reg_alpha': 0.7194571167899805, 'algo__reg_lambda': 5.521019924961057}\n",
      "Best accuracy:  0.9605308979883285\n",
      "Training: 96.65% | Testing: 96.18%\n"
     ]
    }
   ],
   "source": [
    "pipeline = Pipeline([\n",
    "    (\"prep\", preprocessor),\n",
    "    (\"algo\", XGBClassifier(n_jobs=-1, random_state=42))\n",
    "])\n",
    "\n",
    "parameters = {\n",
    "    \"algo__learning_rate\": loguniform(0.1, 0.3),\n",
    "    \"algo__max_depth\": [9, 10],\n",
    "    \"algo__gamma\": loguniform(2, 4),\n",
    "    \"algo__colsample_bytree\": loguniform(0.6, 0.8),\n",
    "    \"algo__reg_alpha\": loguniform(0.6, 0.8),\n",
    "    \"algo__reg_lambda\": loguniform(4, 6)\n",
    "}\n",
    "\n",
    "model = RandomizedSearchCV(pipeline, parameters, cv=3, n_iter=50, n_jobs=-1, verbose=1, random_state=42)\n",
    "model.fit(X_train, y_train)\n",
    "\n",
    "print(\"Best hyperparameters: \", model.best_params_)\n",
    "print(\"Best accuracy: \", model.best_score_)\n",
    "print(f\"Training: {model.score(X_train, y_train)*100:.2f}% | Testing: {model.score(X_test, y_test)*100:.2f}%\")"
   ]
  },
  {
   "cell_type": "code",
   "execution_count": 13,
   "id": "3d95e313-9286-4d3d-8c68-bf4daa991226",
   "metadata": {},
   "outputs": [
    {
     "name": "stdout",
     "output_type": "stream",
     "text": [
      "[[14242   331]\n",
      " [  661 10742]]\n"
     ]
    },
    {
     "data": {
      "image/png": "[encoded data removed]",
      "text/plain": [
       "<Figure size 640x480 with 2 Axes>"
      ]
     },
     "metadata": {},
     "output_type": "display_data"
    }
   ],
   "source": [
    "from sklearn.metrics import classification_report, confusion_matrix\n",
    "\n",
    "y_pred = model.predict(X_test)\n",
    "\n",
    "print(confusion_matrix(y_test, y_pred))\n",
    "cm = confusion_matrix(y_test, y_pred)\n",
    "sns.heatmap(cm, annot=True, cmap=\"Blues\")\n",
    "plt.title(\"Confusion Matrix\")\n",
    "plt.xlabel(\"Predicted Class\")\n",
    "plt.ylabel(\"True Class\")\n",
    "plt.show()"
   ]
  },
  {
   "cell_type": "code",
   "execution_count": 14,
   "id": "6ed630db-ded4-4bee-8683-1bcddffea33d",
   "metadata": {},
   "outputs": [
    {
     "name": "stdout",
     "output_type": "stream",
     "text": [
      "              precision    recall  f1-score   support\n",
      "\n",
      "           0       0.96      0.98      0.97     14573\n",
      "           1       0.97      0.94      0.96     11403\n",
      "\n",
      "    accuracy                           0.96     25976\n",
      "   macro avg       0.96      0.96      0.96     25976\n",
      "weighted avg       0.96      0.96      0.96     25976\n",
      "\n"
     ]
    }
   ],
   "source": [
    "report = classification_report(y_test, y_pred)\n",
    "print(report)"
   ]
  },
  {
   "cell_type": "code",
   "execution_count": null,
   "id": "9c2aeebf-de17-41c8-b6bf-639db286d9ac",
   "metadata": {},
   "outputs": [],
   "source": []
  }
 ],
 "metadata": {
  "kernelspec": {
   "display_name": "Python 3 (ipykernel)",
   "language": "python",
   "name": "python3"
  },
  "language_info": {
   "codemirror_mode": {
    "name": "ipython",
    "version": 3
   },
   "file_extension": ".py",
   "mimetype": "text/x-python",
   "name": "python",
   "nbconvert_exporter": "python",
   "pygments_lexer": "ipython3",
   "version": "3.8.16"
  }
 },
 "nbformat": 4,
 "nbformat_minor": 5
}
