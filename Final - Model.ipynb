{
 "cells": [
  {
   "cell_type": "code",
   "execution_count": 1,
   "id": "62b9a4ad-cdce-4b9a-8937-28c1cbbd8abb",
   "metadata": {},
   "outputs": [],
   "source": [
    "import pandas as pd\n",
    "import numpy as np\n",
    "import matplotlib.pyplot as plt\n",
    "import seaborn as sns\n",
    "\n",
    "from sklearn.impute import SimpleImputer\n",
    "from sklearn.pipeline import Pipeline\n",
    "from sklearn.compose import ColumnTransformer\n",
    "from sklearn.preprocessing import OneHotEncoder, MinMaxScaler, OrdinalEncoder\n",
    "\n",
    "from xgboost import XGBClassifier\n",
    "from scipy.stats import loguniform\n",
    "from sklearn.model_selection import RandomizedSearchCV"
   ]
  },
  {
   "cell_type": "code",
   "execution_count": 2,
   "id": "6156bc0e-d25c-4eee-a063-214a5bc49307",
   "metadata": {},
   "outputs": [],
   "source": [
    "df_train = pd.read_csv(\"data/train.csv\", index_col=\"id\")\n",
    "df_test = pd.read_csv(\"data/test.csv\", index_col=\"id\")\n",
    "\n",
    "df_train.drop(columns=['Unnamed: 0', 'Gate location', 'Leg room service', 'Baggage handling'], inplace=True)\n",
    "df_test.drop(columns=['Unnamed: 0', 'Gate location', 'Leg room service', 'Baggage handling'], inplace=True)"
   ]
  },
  {
   "cell_type": "code",
   "execution_count": 3,
   "id": "0444f593-7979-459b-9d34-72abb8220bc5",
   "metadata": {},
   "outputs": [],
   "source": [
    "X_train = df_train.drop(columns=\"satisfaction\")\n",
    "y_train = df_train.satisfaction\n",
    "X_test = df_test.drop(columns=\"satisfaction\")\n",
    "y_test = df_test.satisfaction\n",
    "\n",
    "y_train = y_train.replace({'neutral or dissatisfied': 0, 'satisfied': 1})\n",
    "y_test = y_test.replace({'neutral or dissatisfied': 0, 'satisfied': 1})"
   ]
  },
  {
   "cell_type": "code",
   "execution_count": 4,
   "id": "fe720df5-3991-491b-94f7-65e0bb3541ff",
   "metadata": {},
   "outputs": [],
   "source": [
    "numerical_pipeline = Pipeline([\n",
    "    (\"imputer\", SimpleImputer(strategy='median'))\n",
    "])\n",
    "\n",
    "categorical_pipeline = Pipeline([\n",
    "    (\"imputer\", SimpleImputer(strategy='most_frequent')),\n",
    "    (\"onehot\", OneHotEncoder())\n",
    "])\n",
    "\n",
    "ordinal_pipeline = Pipeline([\n",
    "    (\"imputer\", SimpleImputer(strategy='most_frequent')),    \n",
    "    (\"ordinal\", OrdinalEncoder(categories=[['0', '1', '2', '3', '4', '5']] * 11))\n",
    "])"
   ]
  },
  {
   "cell_type": "code",
   "execution_count": 5,
   "id": "e46ef0d7-a3a6-440d-b9d0-d7b4d1774b40",
   "metadata": {},
   "outputs": [],
   "source": [
    "preprocessor = ColumnTransformer([\n",
    "    (\"numeric\", numerical_pipeline, [\"Age\", \"Flight Distance\", \"Departure Delay in Minutes\", \"Arrival Delay in Minutes\"]),\n",
    "    (\"categoric\", categorical_pipeline, ['Gender', 'Customer Type', 'Type of Travel', 'Class']),\n",
    "    (\"ordinal\", ordinal_pipeline, ['Inflight wifi service',\n",
    "        'Departure/Arrival time convenient', 'Ease of Online booking', \n",
    "        'Food and drink', 'Online boarding', 'Seat comfort',\n",
    "        'Inflight entertainment', 'On-board service', 'Checkin service', \n",
    "        'Inflight service', 'Cleanliness'])\n",
    "])"
   ]
  },
  {
   "cell_type": "code",
   "execution_count": 7,
   "id": "f4c5e583-f6a1-4fae-bd89-18d1c7266ed5",
   "metadata": {},
   "outputs": [
    {
     "name": "stdout",
     "output_type": "stream",
     "text": [
      "Training: 96.65% | Testing: 96.18%\n"
     ]
    }
   ],
   "source": [
    "parameters = {\n",
    "    \"learning_rate\": 0.17070059179090855,\n",
    "    \"max_depth\": 10,\n",
    "    \"gamma\": 3.941904591403078,\n",
    "    \"colsample_bytree\": 0.7109662235514159,\n",
    "    \"reg_alpha\": 0.7194571167899805,\n",
    "    \"reg_lambda\": 5.521019924961057\n",
    "}\n",
    "\n",
    "pipeline = Pipeline([\n",
    "    (\"prep\", preprocessor),\n",
    "    (\"algo\", XGBClassifier(**parameters, n_jobs=-1, random_state=42))\n",
    "])\n",
    "\n",
    "pipeline.fit(X_train, y_train)\n",
    "\n",
    "print(f\"Training: {pipeline.score(X_train, y_train)*100:.2f}% | Testing: {pipeline.score(X_test, y_test)*100:.2f}%\")"
   ]
  },
  {
   "cell_type": "code",
   "execution_count": 8,
   "id": "6252ff24-bc7b-4a2e-b3ea-89a648fe2116",
   "metadata": {},
   "outputs": [],
   "source": [
    "import pickle\n",
    "\n",
    "with open(\"model/final_model_airlance.pkl\", \"wb\") as file:\n",
    "    pickle.dump(pipeline, file)"
   ]
  },
  {
   "cell_type": "code",
   "execution_count": 11,
   "id": "c7439774-42d8-46ff-9eb6-9b1bd9a60fcc",
   "metadata": {},
   "outputs": [],
   "source": [
    "with open(\"model/final_model_airlance.pkl\", \"rb\") as file:\n",
    "    pipeline = pickle.load(file)"
   ]
  },
  {
   "cell_type": "code",
   "execution_count": 16,
   "id": "4a708824-07b7-4351-a4e2-e90fbbd1c376",
   "metadata": {},
   "outputs": [],
   "source": [
    "columns = ['Gender', 'Customer Type', 'Age', 'Type of Travel', 'Class',\n",
    "       'Flight Distance', 'Inflight wifi service',\n",
    "       'Departure/Arrival time convenient', 'Ease of Online booking',\n",
    "       'Food and drink', 'Online boarding', 'Seat comfort',\n",
    "       'Inflight entertainment', 'On-board service', 'Checkin service',\n",
    "       'Inflight service', 'Cleanliness', 'Departure Delay in Minutes',\n",
    "       'Arrival Delay in Minutes']"
   ]
  },
  {
   "cell_type": "code",
   "execution_count": 26,
   "id": "992e1f1b-505a-4508-bd20-42b2b28b63d1",
   "metadata": {},
   "outputs": [
    {
     "data": {
      "text/html": [
       "<div>\n",
       "<style scoped>\n",
       "    .dataframe tbody tr th:only-of-type {\n",
       "        vertical-align: middle;\n",
       "    }\n",
       "\n",
       "    .dataframe tbody tr th {\n",
       "        vertical-align: top;\n",
       "    }\n",
       "\n",
       "    .dataframe thead th {\n",
       "        text-align: right;\n",
       "    }\n",
       "</style>\n",
       "<table border=\"1\" class=\"dataframe\">\n",
       "  <thead>\n",
       "    <tr style=\"text-align: right;\">\n",
       "      <th></th>\n",
       "      <th>Gender</th>\n",
       "      <th>Customer Type</th>\n",
       "      <th>Age</th>\n",
       "      <th>Type of Travel</th>\n",
       "      <th>Class</th>\n",
       "      <th>Flight Distance</th>\n",
       "      <th>Inflight wifi service</th>\n",
       "      <th>Departure/Arrival time convenient</th>\n",
       "      <th>Ease of Online booking</th>\n",
       "      <th>Food and drink</th>\n",
       "      <th>Online boarding</th>\n",
       "      <th>Seat comfort</th>\n",
       "      <th>Inflight entertainment</th>\n",
       "      <th>On-board service</th>\n",
       "      <th>Checkin service</th>\n",
       "      <th>Inflight service</th>\n",
       "      <th>Cleanliness</th>\n",
       "      <th>Departure Delay in Minutes</th>\n",
       "      <th>Arrival Delay in Minutes</th>\n",
       "    </tr>\n",
       "  </thead>\n",
       "  <tbody>\n",
       "    <tr>\n",
       "      <th>0</th>\n",
       "      <td>Male</td>\n",
       "      <td>disloyal Customer</td>\n",
       "      <td>9</td>\n",
       "      <td>Personal Travel</td>\n",
       "      <td>Eco</td>\n",
       "      <td>500</td>\n",
       "      <td>3</td>\n",
       "      <td>2</td>\n",
       "      <td>4</td>\n",
       "      <td>2</td>\n",
       "      <td>3</td>\n",
       "      <td>4</td>\n",
       "      <td>1</td>\n",
       "      <td>0</td>\n",
       "      <td>3</td>\n",
       "      <td>2</td>\n",
       "      <td>5</td>\n",
       "      <td>30</td>\n",
       "      <td>120</td>\n",
       "    </tr>\n",
       "  </tbody>\n",
       "</table>\n",
       "</div>"
      ],
      "text/plain": [
       "  Gender      Customer Type  Age   Type of Travel Class  Flight Distance  \\\n",
       "0   Male  disloyal Customer    9  Personal Travel   Eco              500   \n",
       "\n",
       "   Inflight wifi service  Departure/Arrival time convenient  \\\n",
       "0                      3                                  2   \n",
       "\n",
       "   Ease of Online booking  Food and drink  Online boarding  Seat comfort  \\\n",
       "0                       4               2                3             4   \n",
       "\n",
       "   Inflight entertainment  On-board service  Checkin service  \\\n",
       "0                       1                 0                3   \n",
       "\n",
       "   Inflight service  Cleanliness  Departure Delay in Minutes  \\\n",
       "0                 2            5                          30   \n",
       "\n",
       "   Arrival Delay in Minutes  \n",
       "0                       120  "
      ]
     },
     "execution_count": 26,
     "metadata": {},
     "output_type": "execute_result"
    }
   ],
   "source": [
    "predict = pd.DataFrame([[ \"Male\",  \"disloyal Customer\", 9, \"Personal Travel\", \"Eco\", \n",
    "              500, 3, 2, 4, 2, 3, 4, 1, 0, 3, 2, 5, 30, 120]], columns=columns)\n",
    "predict"
   ]
  },
  {
   "cell_type": "code",
   "execution_count": 27,
   "id": "5bd63ab0-b3f6-4e16-ad78-e0cfa49c1405",
   "metadata": {},
   "outputs": [
    {
     "name": "stdout",
     "output_type": "stream",
     "text": [
      "Customer Tidak Puas\n"
     ]
    }
   ],
   "source": [
    "if pipeline.predict(predict) != 0:\n",
    "    print(\"Customer Puas\")\n",
    "else:\n",
    "    print(\"Customer Tidak Puas\")"
   ]
  },
  {
   "cell_type": "code",
   "execution_count": null,
   "id": "ead21d18-9fa4-49ba-95cb-728cac1c1bd3",
   "metadata": {},
   "outputs": [],
   "source": []
  }
 ],
 "metadata": {
  "kernelspec": {
   "display_name": "Python 3 (ipykernel)",
   "language": "python",
   "name": "python3"
  },
  "language_info": {
   "codemirror_mode": {
    "name": "ipython",
    "version": 3
   },
   "file_extension": ".py",
   "mimetype": "text/x-python",
   "name": "python",
   "nbconvert_exporter": "python",
   "pygments_lexer": "ipython3",
   "version": "3.8.16"
  }
 },
 "nbformat": 4,
 "nbformat_minor": 5
}
